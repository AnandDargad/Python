{
  "nbformat": 4,
  "nbformat_minor": 0,
  "metadata": {
    "colab": {
      "name": "1_py_Basic.ipynb",
      "provenance": [],
      "collapsed_sections": []
    },
    "kernelspec": {
      "name": "python3",
      "display_name": "Python 3"
    },
    "language_info": {
      "name": "python"
    }
  },
  "cells": [
    {
      "cell_type": "markdown",
      "metadata": {
        "id": "Fsy2KO-UG5sJ"
      },
      "source": [
        "# Python"
      ]
    },
    {
      "cell_type": "markdown",
      "metadata": {
        "id": "NZ2iho22KuQI"
      },
      "source": [
        "### Features of PYTHON\n",
        "\n",
        "##### Interpreted Language\n",
        "##### Dynamically Typed\n",
        "##### Object Oriented Programming Language\n",
        "##### Usable in many Domains"
      ]
    },
    {
      "cell_type": "markdown",
      "metadata": {
        "id": "7eNmSgb_JMpE"
      },
      "source": [
        "#### Datatypes "
      ]
    },
    {
      "cell_type": "markdown",
      "metadata": {
        "id": "mkE6TcQDJZtP"
      },
      "source": [
        "##### Numbers\n",
        "- There are 3 types of numbers\n",
        "  1. Int\n",
        "  2. Float (A floating-point number is accurate up to 15 decimal places.) \n",
        "  3. Complex"
      ]
    },
    {
      "cell_type": "code",
      "metadata": {
        "colab": {
          "base_uri": "https://localhost:8080/"
        },
        "id": "ep00thr2_mwc",
        "outputId": "51cd9d0f-86ea-4b5a-e332-eaa15c94ba11"
      },
      "source": [
        "5 + 9"
      ],
      "execution_count": null,
      "outputs": [
        {
          "output_type": "execute_result",
          "data": {
            "text/plain": [
              "14"
            ]
          },
          "metadata": {
            "tags": []
          },
          "execution_count": 1
        }
      ]
    },
    {
      "cell_type": "code",
      "metadata": {
        "colab": {
          "base_uri": "https://localhost:8080/"
        },
        "id": "6XVIkzD6JeDL",
        "outputId": "cd85f995-7a01-45d7-d3d0-5608cbc64083"
      },
      "source": [
        "3 * 4"
      ],
      "execution_count": null,
      "outputs": [
        {
          "output_type": "execute_result",
          "data": {
            "text/plain": [
              "12"
            ]
          },
          "metadata": {
            "tags": []
          },
          "execution_count": 2
        }
      ]
    },
    {
      "cell_type": "code",
      "metadata": {
        "colab": {
          "base_uri": "https://localhost:8080/"
        },
        "id": "vmsMKYPiJizY",
        "outputId": "fb690797-7ca6-4a91-afea-fbcf5b2377a0"
      },
      "source": [
        "# 25 / 6\n",
        "a = 25\n",
        "b = 6\n",
        "c = a / b\n",
        "print(type(a))\n",
        "print(type(b))\n",
        "print(type(c))\n",
        "print(c)\n"
      ],
      "execution_count": null,
      "outputs": [
        {
          "output_type": "stream",
          "text": [
            "<class 'int'>\n",
            "<class 'int'>\n",
            "<class 'float'>\n",
            "4.166666666666667\n"
          ],
          "name": "stdout"
        }
      ]
    },
    {
      "cell_type": "code",
      "metadata": {
        "colab": {
          "base_uri": "https://localhost:8080/"
        },
        "id": "t3u3sSwmJlPP",
        "outputId": "7c5fc50e-fad0-4483-b3f5-ec2486c95850"
      },
      "source": [
        "49 % 8"
      ],
      "execution_count": null,
      "outputs": [
        {
          "output_type": "execute_result",
          "data": {
            "text/plain": [
              "1"
            ]
          },
          "metadata": {
            "tags": []
          },
          "execution_count": 4
        }
      ]
    },
    {
      "cell_type": "code",
      "metadata": {
        "colab": {
          "base_uri": "https://localhost:8080/"
        },
        "id": "qk2LfMPTJoV9",
        "outputId": "0ddc51b6-dc33-431a-80d5-d0233144222b"
      },
      "source": [
        "# Bitwise XOR\n",
        "7 ^ 2"
      ],
      "execution_count": null,
      "outputs": [
        {
          "output_type": "execute_result",
          "data": {
            "text/plain": [
              "5"
            ]
          },
          "metadata": {
            "tags": []
          },
          "execution_count": 5
        }
      ]
    },
    {
      "cell_type": "code",
      "metadata": {
        "colab": {
          "base_uri": "https://localhost:8080/"
        },
        "id": "E8RxlxNgJrkk",
        "outputId": "4e26df3e-372b-46da-c827-e948ad28f06e"
      },
      "source": [
        "2 ** 3"
      ],
      "execution_count": null,
      "outputs": [
        {
          "output_type": "execute_result",
          "data": {
            "text/plain": [
              "8"
            ]
          },
          "metadata": {
            "tags": []
          },
          "execution_count": 6
        }
      ]
    },
    {
      "cell_type": "code",
      "metadata": {
        "colab": {
          "base_uri": "https://localhost:8080/"
        },
        "id": "RJyy_HsYJ62Z",
        "outputId": "2a7e7c19-d33a-47dd-8e7b-b1c1e9f93297"
      },
      "source": [
        "# Floor Division\n",
        "72 // 10"
      ],
      "execution_count": null,
      "outputs": [
        {
          "output_type": "execute_result",
          "data": {
            "text/plain": [
              "7"
            ]
          },
          "metadata": {
            "tags": []
          },
          "execution_count": 7
        }
      ]
    },
    {
      "cell_type": "markdown",
      "metadata": {
        "id": "5pi721KVN9wX"
      },
      "source": [
        "### Type Conversion"
      ]
    },
    {
      "cell_type": "code",
      "metadata": {
        "colab": {
          "base_uri": "https://localhost:8080/"
        },
        "id": "fgmeJAtDPSgn",
        "outputId": "ec369521-7a17-40e3-8605-afaf88abc801"
      },
      "source": [
        "# float to int\n",
        "int(35.89)"
      ],
      "execution_count": null,
      "outputs": [
        {
          "output_type": "execute_result",
          "data": {
            "text/plain": [
              "35"
            ]
          },
          "metadata": {
            "tags": []
          },
          "execution_count": 4
        }
      ]
    },
    {
      "cell_type": "code",
      "metadata": {
        "colab": {
          "base_uri": "https://localhost:8080/"
        },
        "id": "nB5cIo0mPm6C",
        "outputId": "bae13f10-60ae-4dfb-dded-ecd810a49b30"
      },
      "source": [
        "# String to float\n",
        "float('5.9')"
      ],
      "execution_count": null,
      "outputs": [
        {
          "output_type": "execute_result",
          "data": {
            "text/plain": [
              "5.9"
            ]
          },
          "metadata": {
            "tags": []
          },
          "execution_count": 7
        }
      ]
    },
    {
      "cell_type": "code",
      "metadata": {
        "colab": {
          "base_uri": "https://localhost:8080/"
        },
        "id": "KajQ-oeLPmor",
        "outputId": "aefe1707-f71d-41cb-94a3-641c9ca36fd9"
      },
      "source": [
        "# Int to string\n",
        "a = str(15)\n",
        "\n",
        "print(type(a))"
      ],
      "execution_count": null,
      "outputs": [
        {
          "output_type": "stream",
          "text": [
            "<class 'str'>\n"
          ],
          "name": "stdout"
        }
      ]
    },
    {
      "cell_type": "code",
      "metadata": {
        "colab": {
          "base_uri": "https://localhost:8080/"
        },
        "id": "ps8pSZpITajp",
        "outputId": "2ecb6ab7-f047-4483-bf30-625fd39c222b"
      },
      "source": [
        "num_int = 123\n",
        "num_str = \"456\"\n",
        "\n",
        "print(\"Data type of num_int:\",type(num_int))\n",
        "print(\"Data type of num_str before Type Casting:\",type(num_str))\n",
        "\n",
        "num_str = int(num_str)\n",
        "print(\"Data type of num_str after Type Casting:\",type(num_str))\n",
        "\n",
        "num_sum = num_int + num_str\n",
        "\n",
        "print(\"Sum of num_int and num_str:\",num_sum)\n",
        "print(\"Data type of the sum:\",type(num_sum))"
      ],
      "execution_count": null,
      "outputs": [
        {
          "output_type": "stream",
          "text": [
            "Data type of num_int: <class 'int'>\n",
            "Data type of num_str before Type Casting: <class 'str'>\n",
            "Data type of num_str after Type Casting: <class 'int'>\n",
            "Sum of num_int and num_str: 579\n",
            "Data type of the sum: <class 'int'>\n"
          ],
          "name": "stdout"
        }
      ]
    },
    {
      "cell_type": "markdown",
      "metadata": {
        "id": "kg1BEfLOTCki"
      },
      "source": [
        "###### Comments\n",
        "Comments can be given as \n",
        "1. Single Line Comment \\ \n",
        "##### # This is comment\n",
        "2. Multi-line Comment \\\n",
        "'''\n",
        "This \\\n",
        "is \\\n",
        "Multi-line \\\n",
        "Comment \\\n",
        "''' "
      ]
    },
    {
      "cell_type": "code",
      "metadata": {
        "colab": {
          "base_uri": "https://localhost:8080/",
          "height": 35
        },
        "id": "H1b33ea0V0sT",
        "outputId": "199692db-3b8a-4386-bc20-1c5fbd6b6355"
      },
      "source": [
        "''' \n",
        "This \n",
        "is\n",
        "an\n",
        "example\n",
        "'''\n",
        "10 * 'a'"
      ],
      "execution_count": null,
      "outputs": [
        {
          "output_type": "execute_result",
          "data": {
            "application/vnd.google.colaboratory.intrinsic+json": {
              "type": "string"
            },
            "text/plain": [
              "'aaaaaaaaaa'"
            ]
          },
          "metadata": {
            "tags": []
          },
          "execution_count": 11
        }
      ]
    },
    {
      "cell_type": "code",
      "metadata": {
        "colab": {
          "base_uri": "https://localhost:8080/"
        },
        "id": "yxWeEwYxXz3w",
        "outputId": "89ff4f04-34e0-4f81-96d6-4ee780b2ab3c"
      },
      "source": [
        "print(isinstance(5, float))\n",
        "type(5)"
      ],
      "execution_count": null,
      "outputs": [
        {
          "output_type": "stream",
          "text": [
            "False\n"
          ],
          "name": "stdout"
        },
        {
          "output_type": "execute_result",
          "data": {
            "text/plain": [
              "int"
            ]
          },
          "metadata": {
            "tags": []
          },
          "execution_count": 13
        }
      ]
    },
    {
      "cell_type": "code",
      "metadata": {
        "colab": {
          "base_uri": "https://localhost:8080/"
        },
        "id": "gIugg1LxYDyg",
        "outputId": "8e8a8235-255f-452a-cf55-a3ec33f89737"
      },
      "source": [
        "type(97)"
      ],
      "execution_count": null,
      "outputs": [
        {
          "output_type": "execute_result",
          "data": {
            "text/plain": [
              "int"
            ]
          },
          "metadata": {
            "tags": []
          },
          "execution_count": 14
        }
      ]
    },
    {
      "cell_type": "code",
      "metadata": {
        "colab": {
          "base_uri": "https://localhost:8080/"
        },
        "id": "_pY2A8USYHNS",
        "outputId": "00507c9a-337f-4f01-8016-97492901e650"
      },
      "source": [
        "type(3+2j)"
      ],
      "execution_count": null,
      "outputs": [
        {
          "output_type": "execute_result",
          "data": {
            "text/plain": [
              "complex"
            ]
          },
          "metadata": {
            "tags": []
          },
          "execution_count": 15
        }
      ]
    },
    {
      "cell_type": "code",
      "metadata": {
        "colab": {
          "base_uri": "https://localhost:8080/"
        },
        "id": "AvGyCTynYKbe",
        "outputId": "6692eff2-cb21-46b0-8dda-a209e5f304c5"
      },
      "source": [
        "type('abc')"
      ],
      "execution_count": null,
      "outputs": [
        {
          "output_type": "execute_result",
          "data": {
            "text/plain": [
              "str"
            ]
          },
          "metadata": {
            "tags": []
          },
          "execution_count": 16
        }
      ]
    },
    {
      "cell_type": "code",
      "metadata": {
        "colab": {
          "base_uri": "https://localhost:8080/"
        },
        "id": "-f8LljKFYPCO",
        "outputId": "4efbdac9-aca1-4d79-d086-a347dba0b6aa"
      },
      "source": [
        "type(False)"
      ],
      "execution_count": null,
      "outputs": [
        {
          "output_type": "execute_result",
          "data": {
            "text/plain": [
              "bool"
            ]
          },
          "metadata": {
            "tags": []
          },
          "execution_count": 17
        }
      ]
    },
    {
      "cell_type": "markdown",
      "metadata": {
        "id": "y8xtjsZoR5Bn"
      },
      "source": [
        "##### String"
      ]
    },
    {
      "cell_type": "code",
      "metadata": {
        "colab": {
          "base_uri": "https://localhost:8080/",
          "height": 35
        },
        "id": "n6y0h4BfR9rY",
        "outputId": "4e64107f-736b-42a9-8105-61ddac68dc7f"
      },
      "source": [
        "'Hi'"
      ],
      "execution_count": null,
      "outputs": [
        {
          "output_type": "execute_result",
          "data": {
            "application/vnd.google.colaboratory.intrinsic+json": {
              "type": "string"
            },
            "text/plain": [
              "'Hi'"
            ]
          },
          "metadata": {
            "tags": []
          },
          "execution_count": 1
        }
      ]
    },
    {
      "cell_type": "code",
      "metadata": {
        "colab": {
          "base_uri": "https://localhost:8080/",
          "height": 35
        },
        "id": "g95NP4vGSBjZ",
        "outputId": "ef94b652-7379-441e-9990-12efd966c490"
      },
      "source": [
        "\"Hello\""
      ],
      "execution_count": null,
      "outputs": [
        {
          "output_type": "execute_result",
          "data": {
            "application/vnd.google.colaboratory.intrinsic+json": {
              "type": "string"
            },
            "text/plain": [
              "'Hello'"
            ]
          },
          "metadata": {
            "tags": []
          },
          "execution_count": 2
        }
      ]
    },
    {
      "cell_type": "code",
      "metadata": {
        "colab": {
          "base_uri": "https://localhost:8080/"
        },
        "id": "zMHemjjgSDar",
        "outputId": "6745a76c-6ca1-4cb5-f720-3e63d5a8cb31"
      },
      "source": [
        "help(\"keywords\")\n",
        "# These keywords are reserved. We can't use it as variable name."
      ],
      "execution_count": null,
      "outputs": [
        {
          "output_type": "stream",
          "text": [
            "\n",
            "Here is a list of the Python keywords.  Enter any keyword to get more help.\n",
            "\n",
            "False               class               from                or\n",
            "None                continue            global              pass\n",
            "True                def                 if                  raise\n",
            "and                 del                 import              return\n",
            "as                  elif                in                  try\n",
            "assert              else                is                  while\n",
            "async               except              lambda              with\n",
            "await               finally             nonlocal            yield\n",
            "break               for                 not                 \n",
            "\n"
          ],
          "name": "stdout"
        }
      ]
    },
    {
      "cell_type": "markdown",
      "metadata": {
        "id": "vF6O74oyUYl5"
      },
      "source": [
        "#### Identifiers\n",
        " - An identifier is a name given to entities like class, functions, variables, etc. It helps to differentiate one entity from another.\n",
        "\n",
        "##### Rules for Identifiers\n",
        "- Keywords cannot be used as identifiers.\n",
        "- We cannot use special symbols like !, @, #, $, % etc. in our identifier.\n",
        "- Identifiers can be a combination of letters in lowercase (a to z) or uppercase (A to Z) or digits (0 to 9) or an underscore _.\n",
        "- An identifier can be of any length.\n",
        "- An identifier cannot start with a digit."
      ]
    },
    {
      "cell_type": "markdown",
      "metadata": {
        "id": "T06pxLjbUruU"
      },
      "source": [
        "# Variables\n",
        "- A variable is a named location used to store data in the memory.\n",
        "Ex. a = 15\n",
        "  Here a is a varible and we assigned 15 to a.\n",
        "#### In Python, we don't actually assign values to the variables. Instead, Python gives the reference of the object(value) to the variable."
      ]
    },
    {
      "cell_type": "markdown",
      "metadata": {
        "id": "HEzY2fkoeUDB"
      },
      "source": [
        "# Statements\n",
        "- Instructions that a Python interpreter can execute are called statements. \n",
        "  for example a = 5\n",
        "  This example is Single Line Statement.\n",
        "- Multi-line statement:\n",
        "```\n",
        "  Ex. b = 1 + 2 + 3 + \\\n",
        "          4 + 5 + \\\n",
        "          9\n",
        "```\n",
        "   In above example we used new line character(\\) for the multi line statement. \n",
        "   We can also use parenthesis (), bracket [] or braces {} for multi-line    statement.\n",
        "   ```\n",
        "   Ex. b = ( 1 + 2 + 3 +\n",
        "             4 + 5 +\n",
        "             9 )\n",
        "  ```\n",
        "    We can also put multi-line statement into single line.\n",
        "    Ex. a = 5; b = 9; c = 15  \n"
      ]
    },
    {
      "cell_type": "markdown",
      "metadata": {
        "id": "DrykWnw4itWS"
      },
      "source": [
        "# Docstring\n",
        "- It is short for Document String\n",
        "- Triple quotes are used while writing docstrings.\n",
        "- Ex. def log_in(user_name):\n",
        "      \"\"\"Function to log in\"\"\""
      ]
    },
    {
      "cell_type": "markdown",
      "metadata": {
        "id": "IJfpTT-oVShQ"
      },
      "source": [
        "print() syntax:\n",
        "- print(*objects, sep = seperator, end = end, file = sys.stdout, flush = False)\n",
        "###### Here,\n",
        "- objects = any object(string)\n",
        "- sep = seperator, generally comma(,) is used. It's an optional. Default is ' '\n",
        "- end = Specify what to print at end. Default is '\\n'. It's an optional.\n",
        "- file = The object where the values are printed and its default value is sys.  stdout (screen). It's an optional.\n",
        "- flush = A Boolean, specifying if the output is flushed (True) or buffered (False). Default is False. It's an optional."
      ]
    },
    {
      "cell_type": "code",
      "metadata": {
        "colab": {
          "base_uri": "https://localhost:8080/"
        },
        "id": "_wKmFuBhUwRZ",
        "outputId": "ba91a3f1-8bd1-4636-9ac3-5db69183d201"
      },
      "source": [
        "print('Hello', end='\\b')\n",
        "print('Hi')"
      ],
      "execution_count": null,
      "outputs": [
        {
          "output_type": "stream",
          "text": [
            "Hello\bHi\n"
          ],
          "name": "stdout"
        }
      ]
    },
    {
      "cell_type": "code",
      "metadata": {
        "colab": {
          "base_uri": "https://localhost:8080/"
        },
        "id": "8jzXev2qqKgG",
        "outputId": "c7b05016-52fa-4bda-c3e5-2b825f580088"
      },
      "source": [
        "a = 15\n",
        "b = 5\n",
        "print(a + b)\n",
        "print(a - b)\n",
        "print(a * b)\n",
        "print(a / b)"
      ],
      "execution_count": null,
      "outputs": [
        {
          "output_type": "stream",
          "text": [
            "20\n",
            "10\n",
            "75\n",
            "3.0\n"
          ],
          "name": "stdout"
        }
      ]
    },
    {
      "cell_type": "code",
      "metadata": {
        "id": "87r_dv00lqat",
        "colab": {
          "base_uri": "https://localhost:8080/"
        },
        "outputId": "53687245-657c-42bf-d656-40a08465a79c"
      },
      "source": [
        "first_Name = \"Anand \"\n",
        "last_Name = \"Dargad\"\n",
        "print(first_Name)\n",
        "print(last_Name)\n",
        "print(first_Name + last_Name)\n",
        "print(\"My first name is {} and last name is {}\".format(last_Name, last_Name))\n",
        "print(\"My first name is {abc} and last name is {xyz}\".format(abc = first_Name, xyz = last_Name))\n",
        "print(\"My first name is {1} and last name is {0}\".format(first_Name, last_Name))"
      ],
      "execution_count": null,
      "outputs": [
        {
          "output_type": "stream",
          "text": [
            "Anand \n",
            "Dargad\n",
            "Anand Dargad\n",
            "My first name is Dargad and last name is Dargad\n",
            "My first name is Anand  and last name is Dargad\n",
            "My first name is Dargad and last name is Anand \n"
          ],
          "name": "stdout"
        }
      ]
    },
    {
      "cell_type": "code",
      "metadata": {
        "colab": {
          "base_uri": "https://localhost:8080/"
        },
        "id": "lAHe873OYXkT",
        "outputId": "bb479cbf-a4ba-42c7-b996-c1866b29f47d"
      },
      "source": [
        "help('format')"
      ],
      "execution_count": null,
      "outputs": [
        {
          "output_type": "stream",
          "text": [
            "Help on built-in function format in module builtins:\n",
            "\n",
            "format(value, format_spec='', /)\n",
            "    Return value.__format__(format_spec)\n",
            "    \n",
            "    format_spec defaults to the empty string.\n",
            "    See the Format Specification Mini-Language section of help('FORMATTING') for\n",
            "    details.\n",
            "\n"
          ],
          "name": "stdout"
        }
      ]
    },
    {
      "cell_type": "markdown",
      "metadata": {
        "id": "gOZaVux2YT9U"
      },
      "source": [
        "##### input()\n",
        "- Syntax : \n",
        "    input(prompt)\n",
        "- Here, prompt = A String, representing a default message before the input.\n",
        "- Data from user stored in String format into variable."
      ]
    },
    {
      "cell_type": "code",
      "metadata": {
        "colab": {
          "base_uri": "https://localhost:8080/"
        },
        "id": "u0nSMy7vYPV_",
        "outputId": "b0d0124b-6baf-4603-bcd3-57abe8cf5022"
      },
      "source": [
        "first_Name = input('Enter first name: ')\n",
        "last_Name = input('Enter last name : ')\n",
        "print(first_Name + last_Name)"
      ],
      "execution_count": null,
      "outputs": [
        {
          "output_type": "stream",
          "text": [
            "Enter first name: a\n",
            "Enter last name : b\n",
            "ab\n"
          ],
          "name": "stdout"
        }
      ]
    },
    {
      "cell_type": "markdown",
      "metadata": {
        "id": "KJD9hI-UZ2Hy"
      },
      "source": [
        "##### import\n",
        "- By using import we can fetch different modules"
      ]
    },
    {
      "cell_type": "code",
      "metadata": {
        "colab": {
          "base_uri": "https://localhost:8080/"
        },
        "id": "e5dzgFdAaBU2",
        "outputId": "b025e8d7-e26f-4528-ddd2-70199617fc1a"
      },
      "source": [
        "import math\n",
        "print(math.pi)"
      ],
      "execution_count": null,
      "outputs": [
        {
          "output_type": "stream",
          "text": [
            "3.141592653589793\n"
          ],
          "name": "stdout"
        }
      ]
    },
    {
      "cell_type": "code",
      "metadata": {
        "colab": {
          "base_uri": "https://localhost:8080/"
        },
        "id": "9D7P0HNjaMNS",
        "outputId": "14a3bce9-b09d-45ab-e61e-2758ca3e40a5"
      },
      "source": [
        "import sys\n",
        "sys.path"
      ],
      "execution_count": null,
      "outputs": [
        {
          "output_type": "execute_result",
          "data": {
            "text/plain": [
              "['',\n",
              " '/content',\n",
              " '/env/python',\n",
              " '/usr/lib/python37.zip',\n",
              " '/usr/lib/python3.7',\n",
              " '/usr/lib/python3.7/lib-dynload',\n",
              " '/usr/local/lib/python3.7/dist-packages',\n",
              " '/usr/lib/python3/dist-packages',\n",
              " '/usr/local/lib/python3.7/dist-packages/IPython/extensions',\n",
              " '/root/.ipython']"
            ]
          },
          "metadata": {
            "tags": []
          },
          "execution_count": 15
        }
      ]
    },
    {
      "cell_type": "code",
      "metadata": {
        "colab": {
          "base_uri": "https://localhost:8080/"
        },
        "id": "ry_m4-4uavmr",
        "outputId": "cebc9240-8a94-463c-aac7-6e48fafe5881"
      },
      "source": [
        "help('sysconfig')"
      ],
      "execution_count": null,
      "outputs": [
        {
          "output_type": "stream",
          "text": [
            "Help on module sysconfig:\n",
            "\n",
            "NAME\n",
            "    sysconfig - Access to Python's configuration information.\n",
            "\n",
            "MODULE REFERENCE\n",
            "    https://docs.python.org/3.7/library/sysconfig\n",
            "    \n",
            "    The following documentation is automatically generated from the Python\n",
            "    source files.  It may be incomplete, incorrect or include features that\n",
            "    are considered implementation detail and may vary between Python\n",
            "    implementations.  When in doubt, consult the module reference at the\n",
            "    location listed above.\n",
            "\n",
            "FUNCTIONS\n",
            "    get_config_h_filename()\n",
            "        Return the path of pyconfig.h.\n",
            "    \n",
            "    get_config_var(name)\n",
            "        Return the value of a single variable using the dictionary returned by\n",
            "        'get_config_vars()'.\n",
            "        \n",
            "        Equivalent to get_config_vars().get(name)\n",
            "    \n",
            "    get_config_vars(*args)\n",
            "        With no arguments, return a dictionary of all configuration\n",
            "        variables relevant for the current platform.\n",
            "        \n",
            "        On Unix, this means every variable defined in Python's installed Makefile;\n",
            "        On Windows it's a much smaller set.\n",
            "        \n",
            "        With arguments, return a list of values that result from looking up\n",
            "        each argument in the configuration variable dictionary.\n",
            "    \n",
            "    get_makefile_filename()\n",
            "        Return the path of the Makefile.\n",
            "    \n",
            "    get_path(name, scheme='posix_prefix', vars=None, expand=True)\n",
            "        Return a path corresponding to the scheme.\n",
            "        \n",
            "        ``scheme`` is the install scheme name.\n",
            "    \n",
            "    get_path_names()\n",
            "        Return a tuple containing the paths names.\n",
            "    \n",
            "    get_paths(scheme='posix_prefix', vars=None, expand=True)\n",
            "        Return a mapping containing an install scheme.\n",
            "        \n",
            "        ``scheme`` is the install scheme name. If not provided, it will\n",
            "        return the default scheme for the current platform.\n",
            "    \n",
            "    get_platform()\n",
            "        Return a string that identifies the current platform.\n",
            "        \n",
            "        This is used mainly to distinguish platform-specific build directories and\n",
            "        platform-specific built distributions.  Typically includes the OS name and\n",
            "        version and the architecture (as supplied by 'os.uname()'), although the\n",
            "        exact information included depends on the OS; on Linux, the kernel version\n",
            "        isn't particularly important.\n",
            "        \n",
            "        Examples of returned values:\n",
            "           linux-i586\n",
            "           linux-alpha (?)\n",
            "           solaris-2.6-sun4u\n",
            "        \n",
            "        Windows will return one of:\n",
            "           win-amd64 (64bit Windows on AMD64 (aka x86_64, Intel64, EM64T, etc)\n",
            "           win32 (all others - specifically, sys.platform is returned)\n",
            "        \n",
            "        For other non-POSIX platforms, currently just returns 'sys.platform'.\n",
            "    \n",
            "    get_python_version()\n",
            "    \n",
            "    get_scheme_names()\n",
            "        Return a tuple containing the schemes names.\n",
            "    \n",
            "    parse_config_h(fp, vars=None)\n",
            "        Parse a config.h-style file.\n",
            "        \n",
            "        A dictionary containing name/value pairs is returned.  If an\n",
            "        optional dictionary is passed in as the second argument, it is\n",
            "        used instead of a new dictionary.\n",
            "\n",
            "DATA\n",
            "    __all__ = ['get_config_h_filename', 'get_config_var', 'get_config_vars...\n",
            "\n",
            "FILE\n",
            "    /usr/lib/python3.7/sysconfig.py\n",
            "\n",
            "\n"
          ],
          "name": "stdout"
        }
      ]
    },
    {
      "cell_type": "code",
      "metadata": {
        "colab": {
          "base_uri": "https://localhost:8080/"
        },
        "id": "oYYlQj0Xae2r",
        "outputId": "515c4a4f-df12-4e33-b656-10579f78abf0"
      },
      "source": [
        "import sysconfig\n",
        "sysconfig.get_path_names()"
      ],
      "execution_count": null,
      "outputs": [
        {
          "output_type": "execute_result",
          "data": {
            "text/plain": [
              "('stdlib', 'platstdlib', 'purelib', 'platlib', 'include', 'scripts', 'data')"
            ]
          },
          "metadata": {
            "tags": []
          },
          "execution_count": 17
        }
      ]
    },
    {
      "cell_type": "markdown",
      "metadata": {
        "id": "y-Olb86xLN_L"
      },
      "source": [
        "## Operators\n",
        "### Arithmetic Operators\n",
        "![Arithmetic.png](data:image/png;base64,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)\n"
      ]
    },
    {
      "cell_type": "markdown",
      "metadata": {
        "id": "icwnU5lVjWLO"
      },
      "source": [
        "### Comparison Operator\n",
        "![comparison.png](data:image/png;base64,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)"
      ]
    },
    {
      "cell_type": "markdown",
      "metadata": {
        "id": "3eHCgi9Rj7FI"
      },
      "source": [
        "### Logical Operator\n",
        "![logical.png](data:image/png;base64,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)"
      ]
    },
    {
      "cell_type": "markdown",
      "metadata": {
        "id": "Vp4QkNFAkCEh"
      },
      "source": [
        "### Bitwise Operator\n",
        "![bitwise.png](data:image/png;base64,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)"
      ]
    },
    {
      "cell_type": "markdown",
      "metadata": {
        "id": "aYhe119TkiAA"
      },
      "source": [
        "### Assignment Operator\n",
        "![assignment.png](data:image/png;base64,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)"
      ]
    },
    {
      "cell_type": "markdown",
      "metadata": {
        "id": "tnBfmSQglcgA"
      },
      "source": [
        "### Special Operators\n",
        "#### Identity Operators\n",
        "![identity.png](data:image/png;base64,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)\n",
        "\n",
        "#### Membership Operator\n",
        "![membership.png](data:image/png;base64,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)"
      ]
    },
    {
      "cell_type": "code",
      "metadata": {
        "colab": {
          "base_uri": "https://localhost:8080/"
        },
        "id": "72WStC_JlXai",
        "outputId": "ad726f03-8933-45c1-9c97-dba8d59ba793"
      },
      "source": [
        "import this"
      ],
      "execution_count": null,
      "outputs": [
        {
          "output_type": "stream",
          "text": [
            "The Zen of Python, by Tim Peters\n",
            "\n",
            "Beautiful is better than ugly.\n",
            "Explicit is better than implicit.\n",
            "Simple is better than complex.\n",
            "Complex is better than complicated.\n",
            "Flat is better than nested.\n",
            "Sparse is better than dense.\n",
            "Readability counts.\n",
            "Special cases aren't special enough to break the rules.\n",
            "Although practicality beats purity.\n",
            "Errors should never pass silently.\n",
            "Unless explicitly silenced.\n",
            "In the face of ambiguity, refuse the temptation to guess.\n",
            "There should be one-- and preferably only one --obvious way to do it.\n",
            "Although that way may not be obvious at first unless you're Dutch.\n",
            "Now is better than never.\n",
            "Although never is often better than *right* now.\n",
            "If the implementation is hard to explain, it's a bad idea.\n",
            "If the implementation is easy to explain, it may be a good idea.\n",
            "Namespaces are one honking great idea -- let's do more of those!\n"
          ],
          "name": "stdout"
        }
      ]
    },
    {
      "cell_type": "code",
      "metadata": {
        "colab": {
          "base_uri": "https://localhost:8080/"
        },
        "id": "i5ymIauQpaQz",
        "outputId": "11ffccdc-1e67-4ce1-d26a-f7facba3ca2e"
      },
      "source": [
        "# id() - Returns the memeory location of object\n",
        "a = 12\n",
        "print(id(a))"
      ],
      "execution_count": null,
      "outputs": [
        {
          "output_type": "stream",
          "text": [
            "94104907070304\n"
          ],
          "name": "stdout"
        }
      ]
    },
    {
      "cell_type": "markdown",
      "metadata": {
        "id": "ks1h1ZXtu3Aj"
      },
      "source": [
        "### Namespaces\n",
        "- Namespace is collection of names\n",
        "- Namespace hierarchy in python is just like, function: local namespace, module: global namespace and Built-in namespace."
      ]
    },
    {
      "cell_type": "code",
      "metadata": {
        "id": "D1cscCkppvio"
      },
      "source": [
        "def outer_function():\n",
        "    a = 20\n",
        "\n",
        "    def inner_function():\n",
        "        a = 30\n",
        "        print('a =', a)\n",
        "\n",
        "    inner_function()\n",
        "    print('a =', a)\n",
        "\n",
        "\n",
        "a = 10\n",
        "outer_function()\n",
        "print('a =', a)"
      ],
      "execution_count": null,
      "outputs": []
    },
    {
      "cell_type": "code",
      "metadata": {
        "id": "ZIRdWwhQu7Vf"
      },
      "source": [
        "def outer_function():\n",
        "    global a\n",
        "    a = 20\n",
        "\n",
        "    def inner_function():\n",
        "        global a\n",
        "        a = 30\n",
        "        print('a =', a)\n",
        "\n",
        "    inner_function()\n",
        "    print('a =', a)\n",
        "\n",
        "\n",
        "a = 10\n",
        "outer_function()\n",
        "print('a =', a)"
      ],
      "execution_count": null,
      "outputs": []
    }
  ]
}